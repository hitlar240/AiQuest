{
 "cells": [
  {
   "cell_type": "code",
   "execution_count": 60,
   "id": "92f4cc86",
   "metadata": {},
   "outputs": [],
   "source": [
    "import numpy as np\n",
    "import pandas as pd\n",
    "import matplotlib.pyplot as plt\n",
    "from sklearn.linear_model import LinearRegression as lr"
   ]
  },
  {
   "cell_type": "code",
   "execution_count": 61,
   "id": "0836d58d",
   "metadata": {},
   "outputs": [],
   "source": [
    "x = np.array([2,4,5,3,6,5,7])\n",
    "y = np.array([35,60,20,50,50,55,60])"
   ]
  },
  {
   "cell_type": "markdown",
   "id": "8ac37350",
   "metadata": {},
   "source": [
    "## OLS Method"
   ]
  },
  {
   "cell_type": "code",
   "execution_count": 62,
   "id": "e648069b",
   "metadata": {},
   "outputs": [
    {
     "data": {
      "text/plain": [
       "(np.float64(2.620967741935484), np.float64(35.16129032258065))"
      ]
     },
     "execution_count": 62,
     "metadata": {},
     "output_type": "execute_result"
    }
   ],
   "source": [
    "\n",
    "x_ = np.mean(x)\n",
    "y_ = np.mean(y)\n",
    "\n",
    "XY = np.sum((x-x_)*(y-y_))\n",
    "X2 = np.sum((x-x_)**2)\n",
    "\n",
    "m1 = XY/X2\n",
    "c1 = y_ - m1*x_\n",
    "\n",
    "(m1 ,c1)\n"
   ]
  },
  {
   "cell_type": "code",
   "execution_count": 63,
   "id": "03d5b6fc",
   "metadata": {},
   "outputs": [
    {
     "data": {
      "text/plain": [
       "np.float64(52.197580645161295)"
      ]
     },
     "execution_count": 63,
     "metadata": {},
     "output_type": "execute_result"
    }
   ],
   "source": [
    "pY1 = 6.5*m1 + c1\n",
    "pY1"
   ]
  },
  {
   "cell_type": "markdown",
   "id": "4d155b6a",
   "metadata": {},
   "source": [
    "## Method 2"
   ]
  },
  {
   "cell_type": "code",
   "execution_count": 64,
   "id": "62d4cf76",
   "metadata": {},
   "outputs": [
    {
     "data": {
      "text/plain": [
       "(np.float64(2.620967741935484), np.float64(35.16129032258065))"
      ]
     },
     "execution_count": 64,
     "metadata": {},
     "output_type": "execute_result"
    }
   ],
   "source": [
    "N = x.size\n",
    "X = np.sum(x)\n",
    "Y = np.sum(y)\n",
    "X2 = np.sum(x**2)\n",
    "XY = np.sum(x*y)\n",
    "\n",
    "m2 = (N*XY -X*Y)/(N*X2-X**2)\n",
    "c2 = y_ -m2*x_\n",
    "\n",
    "(m2,c2)\n"
   ]
  },
  {
   "cell_type": "code",
   "execution_count": 65,
   "id": "966a5b41",
   "metadata": {},
   "outputs": [
    {
     "data": {
      "text/plain": [
       "np.float64(52.197580645161295)"
      ]
     },
     "execution_count": 65,
     "metadata": {},
     "output_type": "execute_result"
    }
   ],
   "source": [
    "pY2 = 6.5*m2 + c2\n",
    "pY2"
   ]
  },
  {
   "cell_type": "markdown",
   "id": "a389c7ee",
   "metadata": {},
   "source": [
    "## Using sklearn"
   ]
  },
  {
   "cell_type": "code",
   "execution_count": 66,
   "id": "ed45ac54",
   "metadata": {},
   "outputs": [
    {
     "data": {
      "text/html": [
       "<div>\n",
       "<style scoped>\n",
       "    .dataframe tbody tr th:only-of-type {\n",
       "        vertical-align: middle;\n",
       "    }\n",
       "\n",
       "    .dataframe tbody tr th {\n",
       "        vertical-align: top;\n",
       "    }\n",
       "\n",
       "    .dataframe thead th {\n",
       "        text-align: right;\n",
       "    }\n",
       "</style>\n",
       "<table border=\"1\" class=\"dataframe\">\n",
       "  <thead>\n",
       "    <tr style=\"text-align: right;\">\n",
       "      <th></th>\n",
       "      <th>Weight</th>\n",
       "      <th>Price</th>\n",
       "    </tr>\n",
       "  </thead>\n",
       "  <tbody>\n",
       "    <tr>\n",
       "      <th>0</th>\n",
       "      <td>2</td>\n",
       "      <td>35</td>\n",
       "    </tr>\n",
       "    <tr>\n",
       "      <th>1</th>\n",
       "      <td>4</td>\n",
       "      <td>60</td>\n",
       "    </tr>\n",
       "    <tr>\n",
       "      <th>2</th>\n",
       "      <td>5</td>\n",
       "      <td>20</td>\n",
       "    </tr>\n",
       "    <tr>\n",
       "      <th>3</th>\n",
       "      <td>3</td>\n",
       "      <td>50</td>\n",
       "    </tr>\n",
       "    <tr>\n",
       "      <th>4</th>\n",
       "      <td>6</td>\n",
       "      <td>50</td>\n",
       "    </tr>\n",
       "  </tbody>\n",
       "</table>\n",
       "</div>"
      ],
      "text/plain": [
       "   Weight  Price\n",
       "0       2     35\n",
       "1       4     60\n",
       "2       5     20\n",
       "3       3     50\n",
       "4       6     50"
      ]
     },
     "execution_count": 66,
     "metadata": {},
     "output_type": "execute_result"
    }
   ],
   "source": [
    "df = pd.read_csv('../data/Assignment-02.csv')\n",
    "df.head()\n"
   ]
  },
  {
   "cell_type": "code",
   "execution_count": 67,
   "id": "9b4441ca",
   "metadata": {},
   "outputs": [
    {
     "data": {
      "text/plain": [
       "(array([2.62096774]), np.float64(35.16129032258065))"
      ]
     },
     "execution_count": 67,
     "metadata": {},
     "output_type": "execute_result"
    }
   ],
   "source": [
    "x = df[['Weight']]\n",
    "y = df['Price']\n",
    "\n",
    "model = lr().fit(x,y)\n",
    "\n",
    "m = model.coef_\n",
    "c = model.intercept_\n",
    "\n",
    "(m,c)"
   ]
  },
  {
   "cell_type": "markdown",
   "id": "90cd8c44",
   "metadata": {},
   "source": [
    "## Error calculation"
   ]
  },
  {
   "cell_type": "code",
   "execution_count": 68,
   "id": "663692df",
   "metadata": {},
   "outputs": [
    {
     "data": {
      "text/html": [
       "<div>\n",
       "<style scoped>\n",
       "    .dataframe tbody tr th:only-of-type {\n",
       "        vertical-align: middle;\n",
       "    }\n",
       "\n",
       "    .dataframe tbody tr th {\n",
       "        vertical-align: top;\n",
       "    }\n",
       "\n",
       "    .dataframe thead th {\n",
       "        text-align: right;\n",
       "    }\n",
       "</style>\n",
       "<table border=\"1\" class=\"dataframe\">\n",
       "  <thead>\n",
       "    <tr style=\"text-align: right;\">\n",
       "      <th></th>\n",
       "      <th>Weight</th>\n",
       "      <th>Price</th>\n",
       "      <th>Prediction</th>\n",
       "      <th>Error</th>\n",
       "    </tr>\n",
       "  </thead>\n",
       "  <tbody>\n",
       "    <tr>\n",
       "      <th>0</th>\n",
       "      <td>2</td>\n",
       "      <td>35</td>\n",
       "      <td>40.403226</td>\n",
       "      <td>-5.403226</td>\n",
       "    </tr>\n",
       "    <tr>\n",
       "      <th>1</th>\n",
       "      <td>4</td>\n",
       "      <td>60</td>\n",
       "      <td>45.645161</td>\n",
       "      <td>14.354839</td>\n",
       "    </tr>\n",
       "    <tr>\n",
       "      <th>2</th>\n",
       "      <td>5</td>\n",
       "      <td>20</td>\n",
       "      <td>48.266129</td>\n",
       "      <td>-28.266129</td>\n",
       "    </tr>\n",
       "    <tr>\n",
       "      <th>3</th>\n",
       "      <td>3</td>\n",
       "      <td>50</td>\n",
       "      <td>43.024194</td>\n",
       "      <td>6.975806</td>\n",
       "    </tr>\n",
       "    <tr>\n",
       "      <th>4</th>\n",
       "      <td>6</td>\n",
       "      <td>50</td>\n",
       "      <td>50.887097</td>\n",
       "      <td>-0.887097</td>\n",
       "    </tr>\n",
       "    <tr>\n",
       "      <th>5</th>\n",
       "      <td>5</td>\n",
       "      <td>55</td>\n",
       "      <td>48.266129</td>\n",
       "      <td>6.733871</td>\n",
       "    </tr>\n",
       "    <tr>\n",
       "      <th>6</th>\n",
       "      <td>7</td>\n",
       "      <td>60</td>\n",
       "      <td>53.508065</td>\n",
       "      <td>6.491935</td>\n",
       "    </tr>\n",
       "  </tbody>\n",
       "</table>\n",
       "</div>"
      ],
      "text/plain": [
       "   Weight  Price  Prediction      Error\n",
       "0       2     35   40.403226  -5.403226\n",
       "1       4     60   45.645161  14.354839\n",
       "2       5     20   48.266129 -28.266129\n",
       "3       3     50   43.024194   6.975806\n",
       "4       6     50   50.887097  -0.887097\n",
       "5       5     55   48.266129   6.733871\n",
       "6       7     60   53.508065   6.491935"
      ]
     },
     "execution_count": 68,
     "metadata": {},
     "output_type": "execute_result"
    }
   ],
   "source": [
    "yp = df['Prediction'] = model.predict(x)\n",
    "df['Error'] = y - yp\n",
    "df"
   ]
  },
  {
   "cell_type": "code",
   "execution_count": 69,
   "id": "367a1876",
   "metadata": {},
   "outputs": [
    {
     "data": {
      "text/plain": [
       "(np.float64(69.11290322580643), np.float64(1171.1693548387095))"
      ]
     },
     "execution_count": 69,
     "metadata": {},
     "output_type": "execute_result"
    }
   ],
   "source": [
    "# MAE = df['Error'].abs().sum()\n",
    "MAE = np.sum(df['Error'].abs())\n",
    "MSE = np.sum(df['Error']**2)\n",
    "\n",
    "(MAE, MSE)"
   ]
  },
  {
   "cell_type": "markdown",
   "id": "a091e434",
   "metadata": {},
   "source": [
    "## Visualization "
   ]
  },
  {
   "cell_type": "code",
   "execution_count": 86,
   "id": "27a9ba7b",
   "metadata": {},
   "outputs": [
    {
     "name": "stderr",
     "output_type": "stream",
     "text": [
      "C:\\Users\\tahme\\AppData\\Roaming\\Python\\Python313\\site-packages\\sklearn\\utils\\validation.py:2749: UserWarning: X does not have valid feature names, but LinearRegression was fitted with feature names\n",
      "  warnings.warn(\n"
     ]
    },
    {
     "data": {
      "text/plain": [
       "<matplotlib.legend.Legend at 0x26c430fd590>"
      ]
     },
     "execution_count": 86,
     "metadata": {},
     "output_type": "execute_result"
    },
    {
     "data": {
      "image/png": "[encoded data removed]",
      "text/plain": [
       "<Figure size 640x480 with 1 Axes>"
      ]
     },
     "metadata": {},
     "output_type": "display_data"
    }
   ],
   "source": [
    "plt.scatter(df['Weight'], df['Price'], color='blue',label='Actual')\n",
    "\n",
    "plt.plot(df['Weight'], df['Prediction'], color='red', label='Best fit line')\n",
    "\n",
    "eq = f\"Y = {m[0]:.2f}X + {c:.2f}\"\n",
    "plt.text(3.5, 40, eq, fontsize=12, color='red')\n",
    "\n",
    "plt.scatter(df['Weight'], df['Prediction'], color='cyan', marker='|', label='Predicted')\n",
    "plt.scatter(6.5, model.predict([[6.5]]), color='black', marker='*', label='Predicted price for Weight 6.5')\n",
    "\n",
    "plt.xlabel('Weight')\n",
    "plt.ylabel('Price')\n",
    "plt.title(\"Price per Weight\")\n",
    "plt.legend()"
   ]
  }
 ],
 "metadata": {
  "kernelspec": {
   "display_name": "Python 3",
   "language": "python",
   "name": "python3"
  },
  "language_info": {
   "codemirror_mode": {
    "name": "ipython",
    "version": 3
   },
   "file_extension": ".py",
   "mimetype": "text/x-python",
   "name": "python",
   "nbconvert_exporter": "python",
   "pygments_lexer": "ipython3",
   "version": "3.13.5"
  }
 },
 "nbformat": 4,
 "nbformat_minor": 5
}
